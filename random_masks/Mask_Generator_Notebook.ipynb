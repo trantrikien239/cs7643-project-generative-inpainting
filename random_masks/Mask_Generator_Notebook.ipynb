{
 "cells": [
  {
   "cell_type": "code",
   "execution_count": 25,
   "id": "6107b415",
   "metadata": {},
   "outputs": [],
   "source": [
    "from random_mask_generator import *\n",
    "import time\n",
    "import shutil"
   ]
  },
  {
   "cell_type": "markdown",
   "id": "5e5f73e8",
   "metadata": {},
   "source": [
    "#### Example"
   ]
  },
  {
   "cell_type": "code",
   "execution_count": 2,
   "id": "ba97de47",
   "metadata": {
    "scrolled": true
   },
   "outputs": [
    {
     "name": "stdout",
     "output_type": "stream",
     "text": [
      "mask percent is 14.81\n"
     ]
    },
    {
     "data": {
      "image/png": "[encoded data removed]",
      "text/plain": [
       "<PIL.Image.Image image mode=L size=256x256>"
      ]
     },
     "execution_count": 2,
     "metadata": {},
     "output_type": "execute_result"
    }
   ],
   "source": [
    "generator = random_mask_generator()\n",
    "mask, mask_array, mask_percent = generator.mask_generator()\n",
    "print(f'mask percent is {mask_percent}')\n",
    "\n",
    "mask.save('mask_images/mask_test.png')\n",
    "mask\n",
    "\n"
   ]
  },
  {
   "cell_type": "markdown",
   "id": "69fecabf",
   "metadata": {},
   "source": [
    "#### Generate Mask PNGs"
   ]
  },
  {
   "cell_type": "code",
   "execution_count": 3,
   "id": "d00b8ebb",
   "metadata": {},
   "outputs": [],
   "source": [
    "mask_numbers = 10000"
   ]
  },
  {
   "cell_type": "code",
   "execution_count": 7,
   "id": "58c1048e",
   "metadata": {},
   "outputs": [
    {
     "name": "stdout",
     "output_type": "stream",
     "text": [
      "1000 iterations completed!\n",
      "2000 iterations completed!\n",
      "3000 iterations completed!\n",
      "4000 iterations completed!\n",
      "5000 iterations completed!\n",
      "6000 iterations completed!\n",
      "7000 iterations completed!\n",
      "8000 iterations completed!\n",
      "9000 iterations completed!\n",
      "10000 iterations completed!\n",
      "--- Iterations completed in 1.12 minutes ---\n"
     ]
    }
   ],
   "source": [
    "percent_list = []\n",
    "i = 0\n",
    "generator = random_mask_generator()\n",
    "start_time = time.time()\n",
    "while i< mask_numbers:\n",
    "    mask, mask_array, mask_percent = generator.mask_generator()\n",
    "    if mask_percent>10:\n",
    "        percent_list.append(mask_percent)\n",
    "        mask.save('mask_images/mask_{#}.png'.replace('{#}',str(i)))\n",
    "        i +=1\n",
    "        if i%1000==0:\n",
    "            print(f'{i} iterations completed!')\n",
    "    else:\n",
    "        continue\n",
    "print(\"--- Iterations completed in %s minutes ---\" % round((time.time() - start_time)/60,2))"
   ]
  },
  {
   "cell_type": "code",
   "execution_count": 8,
   "id": "5c55ca48",
   "metadata": {},
   "outputs": [],
   "source": [
    "def mask_summary(mask_list):\n",
    "    mask_array = np.array(mask_list)\n",
    "    print(f'Total Mask Generated: {len(mask_array)}')\n",
    "    print(f'Average Mask Percentage: {round(np.mean(mask_array),2)}')\n",
    "    print(f'Min Mask Percentage: {np.min(mask_array)}')\n",
    "    print(f'Max Mask Percentage: {np.max(mask_array)}')\n",
    "    print(f'# Mask Percentage <=10: {np.sum(mask_array<=10)}')\n",
    "    print(f'# Mask Percentage b/w 10 and 20: {np.sum((mask_array >10) & (mask_array<=20))}')\n",
    "    print(f'# Mask Percentage >20: {np.sum(mask_array>20)}')"
   ]
  },
  {
   "cell_type": "code",
   "execution_count": 9,
   "id": "e1a0838c",
   "metadata": {},
   "outputs": [
    {
     "name": "stdout",
     "output_type": "stream",
     "text": [
      "Total Mask Generated: 10000\n",
      "Average Mask Percentage: 17.87\n",
      "Min Mask Percentage: 10.01\n",
      "Max Mask Percentage: 19.99\n",
      "# Mask Percentage <=10: 0\n",
      "# Mask Percentage b/w 10 and 20: 10000\n",
      "# Mask Percentage >20: 0\n"
     ]
    }
   ],
   "source": [
    "mask_summary(percent_list)"
   ]
  },
  {
   "cell_type": "markdown",
   "id": "ea8db15b",
   "metadata": {},
   "source": [
    "#### Creating zip folder"
   ]
  },
  {
   "cell_type": "code",
   "execution_count": 23,
   "id": "74c889c2",
   "metadata": {},
   "outputs": [],
   "source": [
    "path = \"C:/Users/mails/OneDrive/documents/Anaconda\""
   ]
  },
  {
   "cell_type": "code",
   "execution_count": 30,
   "id": "5a95557e",
   "metadata": {},
   "outputs": [
    {
     "data": {
      "text/plain": [
       "'C:\\\\Users\\\\mails\\\\OneDrive\\\\documents\\\\Anaconda\\\\mask_images_zipped.zip'"
      ]
     },
     "execution_count": 30,
     "metadata": {},
     "output_type": "execute_result"
    }
   ],
   "source": [
    "shutil.make_archive(path+'/mask_images_zipped', 'zip',path+'/mask_images')"
   ]
  },
  {
   "cell_type": "code",
   "execution_count": null,
   "id": "f6bd459a",
   "metadata": {},
   "outputs": [],
   "source": []
  }
 ],
 "metadata": {
  "kernelspec": {
   "display_name": "Python 3 (ipykernel)",
   "language": "python",
   "name": "python3"
  },
  "language_info": {
   "codemirror_mode": {
    "name": "ipython",
    "version": 3
   },
   "file_extension": ".py",
   "mimetype": "text/x-python",
   "name": "python",
   "nbconvert_exporter": "python",
   "pygments_lexer": "ipython3",
   "version": "3.9.13"
  }
 },
 "nbformat": 4,
 "nbformat_minor": 5
}
